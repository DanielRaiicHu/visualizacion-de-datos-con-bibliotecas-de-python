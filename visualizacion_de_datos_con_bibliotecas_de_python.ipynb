{
  "nbformat": 4,
  "nbformat_minor": 0,
  "metadata": {
    "colab": {
      "provenance": [],
      "authorship_tag": "ABX9TyP2PfupXKvKCPj8L24uKRt9"
    },
    "kernelspec": {
      "name": "python3",
      "display_name": "Python 3"
    },
    "language_info": {
      "name": "python"
    }
  },
  "cells": [
    {
      "cell_type": "markdown",
      "source": [
        "<a href=\"https://colab.research.google.com/github/DanielRaiicHu/visualizacion-de-datos-con-bibliotecas-de-python/blob/main/visualizacion_de_datos_con_bibliotecas_de_python.ipynb\" target=\"_blank\">\n",
        "  <img src=\"https://colab.research.google.com/assets/colab-badge.svg\" alt=\"Abrir en Colab\"/>\n",
        "</a>"
      ],
      "metadata": {
        "id": "-938_8PfBXKe"
      }
    },
    {
      "cell_type": "code",
      "execution_count": 2,
      "metadata": {
        "id": "eD_OIo4JBPeU"
      },
      "outputs": [],
      "source": [
        "import pandas as pd\n"
      ]
    },
    {
      "cell_type": "code",
      "source": [],
      "metadata": {
        "id": "WrzBplABFIrP"
      },
      "execution_count": null,
      "outputs": []
    }
  ]
}